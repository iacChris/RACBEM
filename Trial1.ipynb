{
 "cells": [
  {
   "cell_type": "code",
   "execution_count": 1,
   "id": "3f082ba6",
   "metadata": {},
   "outputs": [
    {
     "name": "stderr",
     "output_type": "stream",
     "text": [
      "/opt/anaconda3/envs/quantum/lib/python3.7/site-packages/qiskit/validation/fields/custom.py:76: DeprecationWarning: `np.float` is a deprecated alias for the builtin `float`. To silence this warning, use `float` by itself. Doing this will not modify any behavior and is safe. If you specifically wanted the numpy scalar type, use `np.float64` here.\n",
      "Deprecated in NumPy 1.20; for more details and guidance: https://numpy.org/devdocs/release/1.20.0-notes.html#deprecations\n",
      "  numpy.integer, numpy.float,\n",
      "/Users/flynn_chen/.pyxbld/temp.macosx-10.9-x86_64-3.7/pyrex/qutip/cy/openmp/parfuncs.cpp:636:10: fatal error: 'src/zspmv_openmp.hpp' file not found\n",
      "#include \"src/zspmv_openmp.hpp\"\n",
      "         ^~~~~~~~~~~~~~~~~~~~~~\n",
      "1 error generated.\n"
     ]
    }
   ],
   "source": [
    "import numpy as np\n",
    "import scipy.linalg as la\n",
    "\n",
    "from qiskit import execute\n",
    "from qiskit import Aer\n",
    "from qiskit import IBMQ\n",
    "from qiskit.tools.monitor import job_monitor\n",
    "from qiskit.providers.aer.noise import NoiseModel\n",
    "\n",
    "from racbem import *\n",
    "\n",
    "import os\n",
    "import pickle\n",
    "\n",
    "import warnings\n",
    "warnings.filterwarnings(\"ignore\", category=DeprecationWarning)"
   ]
  },
  {
   "cell_type": "code",
   "execution_count": 2,
   "id": "0076a11a",
   "metadata": {},
   "outputs": [],
   "source": [
    "def GetBackend(backend_name=None):\n",
    "    if backend_name == None:\n",
    "        backend = Aer.get_backend('qasm_simulator')\n",
    "    else:\n",
    "        provider = IBMQ.load_account()\n",
    "        backend = provider.get_backend(backend_name)\n",
    "    return backend"
   ]
  },
  {
   "cell_type": "markdown",
   "id": "faa3ea8a",
   "metadata": {},
   "source": [
    "To get consistent output:\n",
    "1. remove random noise (sigma=0)\n",
    "2. set seed = 0, and added seed in the build_random_circuit"
   ]
  },
  {
   "cell_type": "code",
   "execution_count": 3,
   "id": "b1d34530",
   "metadata": {},
   "outputs": [],
   "source": [
    "backend_name = 'ibmq_burlington'\n",
    "#backend_name = None\n",
    "kappa = 5                   # condition number\n",
    "n_sys_qubit = 3             # the number of system qubits\n",
    "n_be_qubit = 1              # the number of block-encoding qubit\n",
    "n_sig_qubit = 1             # the number of signal qubit\n",
    "n_tot_qubit = n_sig_qubit+n_be_qubit+n_sys_qubit\n",
    "n_depth = 15                # the depth of random circuit\n",
    "prob_one_q_op = 0.5         # the probability of selecting a one-qubit\n",
    "                            # operation when two_q_op is allowed\n",
    "basis_gates = ['u1','u2','cx']\n",
    "digit_shots = 13\n",
    "n_shots = 2**digit_shots    # the number of shots used in measurements\n",
    "sigma = 1.0                 # parameter used to rescale noise model\n",
    "# state |0^n>\n",
    "b = np.zeros((2**n_sys_qubit,))\n",
    "b[0] = 1.0\n",
    "load_architecture = True    # True:     load architure locally\n",
    "                            # False:    need to save an IBM account beforehand"
   ]
  },
  {
   "cell_type": "code",
   "execution_count": 4,
   "id": "8b12fc8d",
   "metadata": {},
   "outputs": [
    {
     "name": "stdout",
     "output_type": "stream",
     "text": [
      "\n",
      "load architecture locally at: ibmq_burlington_backend_config.pkl\n",
      "\n",
      "kappa=5, sigma=1.00, polynomial approximation error=1.902e-02\n",
      "\n",
      "Generic RACBEM\n",
      "singular value (A) = \n",
      " [0.893 0.893 0.795 0.795 0.49  0.49  0.477 0.477]\n",
      "Job Status: job has successfully run\n",
      "succ prob (exact)     =  0.1485847611577349\n",
      "succ prob (noiseless) =  0.1484394470037316\n",
      "succ prob (measure)   =  0.17431640625\n",
      "\n",
      "Hermitian RACBEM\n",
      "singular value (A) = \n",
      " [0.837 0.837 0.705 0.705 0.392 0.392 0.382 0.382]\n",
      "condition number (A)  = 2.193\n",
      "||A - A^\\dagger||_2   = 6.825e-15\n"
     ]
    }
   ],
   "source": [
    "seed = 0\n",
    "np.random.seed(seed)\n",
    "\n",
    "# instances of RACBEM\n",
    "be = BlockEncoding(n_be_qubit, n_sys_qubit)\n",
    "qsp = QSPCircuit(n_sig_qubit, n_be_qubit, n_sys_qubit)\n",
    "\n",
    "# retrieve backends and architectures\n",
    "backend = GetBackend()\n",
    "if load_architecture:\n",
    "    if os.path.exists(backend_name+'_backend_config.pkl'):\n",
    "        noise_backend = pickle.load(open(backend_name+'_backend_config.pkl','rb'))\n",
    "        noise_model = NoiseModel.from_dict(noise_backend['noise_dict'])\n",
    "        coupling_map = noise_backend['coupling_map']\n",
    "        tot_q_device = noise_backend['tot_q_device']\n",
    "        print(\"\\nload architecture locally at: %s_backend_config.pkl\\n\"%(backend_name))\n",
    "    else:\n",
    "        raise Exception(\"no locally saved architecture: %s_backend_config.pkl\"%(backend_name), load_architecture)\n",
    "else:\n",
    "    noise_backend = GetBackend(backend_name=backend_name)\n",
    "    coupling_map = noise_backend.configuration().coupling_map\n",
    "    noise_model = NoiseModel.from_backend(noise_backend)\n",
    "    tot_q_device = noise_backend.configuration().n_qubits\n",
    "    pickle.dump({'noise_dict': noise_model.to_dict(), 'coupling_map': coupling_map, 'tot_q_device': tot_q_device, \n",
    "                'basis_gates': noise_backend.configuration().basis_gates}, open(backend_name+'_backend_config.pkl','wb'))\n",
    "    print(\"retrieve architecture from IBM Q and save locally at: %s_backend_config.pkl\\n\"%(backend_name))\n",
    "assert tot_q_device >= n_tot_qubit\n",
    "new_noise_model = scale_noise_model(noise_model, sigma)\n",
    "\n",
    "# exclude qubit 0 as signal qubit, shift the remaining labels by -1\n",
    "be_map = [[q[0]-1,q[1]-1] for q in coupling_map if (0 not in q) and \n",
    "        (q[0] < n_tot_qubit) and (q[1] < n_tot_qubit)]\n",
    "be.build_random_circuit(n_depth, basis_gates=basis_gates, \n",
    "        prob_one_q_op=prob_one_q_op, coupling_map=be_map, seed=seed)\n",
    "be.build_dag()\n",
    "\n",
    "# load phase factors\n",
    "data = np.loadtxt(\"phi_inv_%d.txt\"%(kappa))\n",
    "phi_seq = data[:-2]\n",
    "#phi_seq = np.random.rand(7) * np.pi\n",
    "#phi_seq = np.pi/(2**np.arange(0, 15))\n",
    "scale_fac = data[-2]\n",
    "app_err = data[-1]\n",
    "\n",
    "# retrieve block-encoded matrix\n",
    "UA = retrieve_unitary_matrix(be.qc)\n",
    "A = UA[0:2**n_sys_qubit, 0:2**n_sys_qubit]\n",
    "(svd_U, svd_S, svd_VH) = la.svd(A)\n",
    "print(\"kappa=%d, sigma=%.2f, polynomial approximation error=%.3e\"%(kappa, sigma, app_err))\n",
    "print(\"\")\n",
    "print(\"Generic RACBEM\")\n",
    "print(\"singular value (A) = \\n\", np.around(svd_S, decimals=3))\n",
    "\n",
    "# succ prob via measurement\n",
    "qsp.build_circuit(be.qc, be.qc_dag, phi_seq, realpart=True, measure=True)\n",
    "compiled_circ = qsp.qcircuit\n",
    "job = execute(compiled_circ, backend=backend,\n",
    "        noise_model=new_noise_model, shots=n_shots)\n",
    "job_monitor(job)\n",
    "result = job.result()\n",
    "counts = result.get_counts(compiled_circ)\n",
    "# both the signal and the ancilla qubit for block-encoding needs to\n",
    "# be 0\n",
    "prob_meas = np.float(counts['00']) / n_shots\n",
    "# succ prob via noiseless simulator\n",
    "qsp.build_circuit(be.qc, be.qc_dag, phi_seq, realpart=True, measure=False)\n",
    "state = retrieve_state(qsp.qcircuit)\n",
    "x = state[0:2**n_sys_qubit]\n",
    "prob_qsp = la.norm(x)**2\n",
    "# exact succ prob\n",
    "svd_S_herm = (1-1.0/kappa)*svd_S**2+1.0/kappa\n",
    "A_herm_inv = svd_VH.transpose().conjugate() @ np.diag(1/svd_S_herm) @ svd_VH\n",
    "x_exact = A_herm_inv @ b / scale_fac\n",
    "prob_exact = la.norm(x_exact)**2\n",
    "print(\"succ prob (exact)     = \", prob_exact)\n",
    "print(\"succ prob (noiseless) = \", prob_qsp)\n",
    "print(\"succ prob (measure)   = \", prob_meas)\n",
    "print(\"\")\n",
    "\n",
    "# instance of Hermitian Block-Encoding\n",
    "n_be_qubit = n_be_qubit + 1     # add one extra qubit as sig_qubit in quadratic QSVT\n",
    "be = Hermitian_BlockEncoding(n_be_qubit, n_sys_qubit)\n",
    "be.set_cndnum(kappa)\n",
    "be.build_random_circuit(n_depth, basis_gates=basis_gates, \n",
    "        prob_one_q_op=prob_one_q_op, coupling_map=be_map)\n",
    "be.build_dag()\n",
    "UA = retrieve_unitary_matrix(be.qc)\n",
    "A = UA[0:2**n_sys_qubit, 0:2**n_sys_qubit]\n",
    "UA = retrieve_unitary_matrix(be.qc_dag)\n",
    "A_dag = UA[0:2**n_sys_qubit, 0:2**n_sys_qubit]\n",
    "(svd_U, svd_S, svd_VH) = la.svd(A)\n",
    "print(\"Hermitian RACBEM\")\n",
    "print(\"singular value (A) = \\n\", np.around(svd_S, decimals=3))\n",
    "print(\"condition number (A)  = %.3f\"%(svd_S.max()/svd_S.min()))\n",
    "print(\"||A - A^\\dagger||_2   = %.3e\"%(la.norm(A - A_dag)))"
   ]
  },
  {
   "cell_type": "code",
   "execution_count": 5,
   "id": "8c8d97a5",
   "metadata": {},
   "outputs": [
    {
     "data": {
      "text/plain": [
       "array([[ 0.5023581 -6.10622664e-16j,  0.00616124-2.00119355e-02j,\n",
       "        -0.01023391+7.71643612e-03j,  0.0073908 +2.27546487e-03j,\n",
       "         0.05287521+3.46458058e-02j, -0.00175457-3.81002916e-02j,\n",
       "         0.11205225-1.44740011e-02j, -0.10316353+4.75082510e-03j],\n",
       "       [ 0.00616124+2.00119355e-02j,  0.5023581 -1.27675648e-15j,\n",
       "        -0.0073908 +2.27546487e-03j, -0.01023391+7.71643612e-03j,\n",
       "         0.02287999+3.05158483e-02j,  0.05287521+3.46458058e-02j,\n",
       "         0.08262726-6.19517605e-02j,  0.11205225-1.44740011e-02j],\n",
       "       [-0.01023391-7.71643612e-03j, -0.0073908 -2.27546487e-03j,\n",
       "         0.50805776-5.55111512e-16j, -0.00616124+2.00119355e-02j,\n",
       "         0.10255336-4.09318147e-02j,  0.10316353-4.75082510e-03j,\n",
       "        -0.01876417+6.03657688e-02j,  0.00175457+3.81002916e-02j],\n",
       "       [ 0.0073908 -2.27546487e-03j, -0.01023391-7.71643612e-03j,\n",
       "        -0.00616124-2.00119355e-02j,  0.50805776-1.22124533e-15j,\n",
       "        -0.08262726+6.19517605e-02j,  0.10255336-4.09318147e-02j,\n",
       "        -0.02287999-3.05158483e-02j, -0.01876417+6.03657688e-02j],\n",
       "       [ 0.05287521-3.46458058e-02j,  0.02287999-3.05158483e-02j,\n",
       "         0.10255336+4.09318147e-02j, -0.08262726-6.19517605e-02j,\n",
       "         0.64248725-1.77635684e-15j,  0.02309688-7.50195322e-02j,\n",
       "         0.03836425+2.89269085e-02j,  0.02770617+8.53012493e-03j],\n",
       "       [-0.00175457+3.81002916e-02j,  0.05287521-3.46458058e-02j,\n",
       "         0.10316353+4.75082510e-03j,  0.10255336+4.09318147e-02j,\n",
       "         0.02309688+7.50195322e-02j,  0.64248725-2.69229083e-15j,\n",
       "        -0.02770617+8.53012493e-03j,  0.03836425+2.89269085e-02j],\n",
       "       [ 0.11205225+1.44740011e-02j,  0.08262726+6.19517605e-02j,\n",
       "        -0.01876417-6.03657688e-02j, -0.02287999+3.05158483e-02j,\n",
       "         0.03836425-2.89269085e-02j, -0.02770617-8.53012493e-03j,\n",
       "         0.66385378-1.88737914e-15j, -0.02309688+7.50195322e-02j],\n",
       "       [-0.10316353-4.75082510e-03j,  0.11205225+1.44740011e-02j,\n",
       "         0.00175457-3.81002916e-02j, -0.01876417-6.03657688e-02j,\n",
       "         0.02770617-8.53012493e-03j,  0.03836425-2.89269085e-02j,\n",
       "        -0.02309688-7.50195322e-02j,  0.66385378-3.05311332e-15j]])"
      ]
     },
     "execution_count": 5,
     "metadata": {},
     "output_type": "execute_result"
    }
   ],
   "source": [
    "A"
   ]
  },
  {
   "cell_type": "code",
   "execution_count": 6,
   "id": "7c981322",
   "metadata": {},
   "outputs": [
    {
     "data": {
      "text/plain": [
       "array([[ 0.5023581 -8.32667268e-16j,  0.00616124-2.00119355e-02j,\n",
       "        -0.01023391+7.71643612e-03j,  0.0073908 +2.27546487e-03j,\n",
       "         0.05287521+3.46458058e-02j, -0.00175457-3.81002916e-02j,\n",
       "         0.11205225-1.44740011e-02j, -0.10316353+4.75082510e-03j],\n",
       "       [ 0.00616124+2.00119355e-02j,  0.5023581 -1.05471187e-15j,\n",
       "        -0.0073908 +2.27546487e-03j, -0.01023391+7.71643612e-03j,\n",
       "         0.02287999+3.05158483e-02j,  0.05287521+3.46458058e-02j,\n",
       "         0.08262726-6.19517605e-02j,  0.11205225-1.44740011e-02j],\n",
       "       [-0.01023391-7.71643612e-03j, -0.0073908 -2.27546487e-03j,\n",
       "         0.50805776-1.16573418e-15j, -0.00616124+2.00119355e-02j,\n",
       "         0.10255336-4.09318147e-02j,  0.10316353-4.75082510e-03j,\n",
       "        -0.01876417+6.03657688e-02j,  0.00175457+3.81002916e-02j],\n",
       "       [ 0.0073908 -2.27546487e-03j, -0.01023391-7.71643612e-03j,\n",
       "        -0.00616124-2.00119355e-02j,  0.50805776-1.38777878e-15j,\n",
       "        -0.08262726+6.19517605e-02j,  0.10255336-4.09318147e-02j,\n",
       "        -0.02287999-3.05158483e-02j, -0.01876417+6.03657688e-02j],\n",
       "       [ 0.05287521-3.46458058e-02j,  0.02287999-3.05158483e-02j,\n",
       "         0.10255336+4.09318147e-02j, -0.08262726-6.19517605e-02j,\n",
       "         0.64248725-1.36002321e-15j,  0.02309688-7.50195322e-02j,\n",
       "         0.03836425+2.89269085e-02j,  0.02770617+8.53012493e-03j],\n",
       "       [-0.00175457+3.81002916e-02j,  0.05287521-3.46458058e-02j,\n",
       "         0.10316353+4.75082510e-03j,  0.10255336+4.09318147e-02j,\n",
       "         0.02309688+7.50195322e-02j,  0.64248725-1.66533454e-15j,\n",
       "        -0.02770617+8.53012493e-03j,  0.03836425+2.89269085e-02j],\n",
       "       [ 0.11205225+1.44740011e-02j,  0.08262726+6.19517605e-02j,\n",
       "        -0.01876417-6.03657688e-02j, -0.02287999+3.05158483e-02j,\n",
       "         0.03836425-2.89269085e-02j, -0.02770617-8.53012493e-03j,\n",
       "         0.66385378-7.21644966e-16j, -0.02309688+7.50195322e-02j],\n",
       "       [-0.10316353-4.75082510e-03j,  0.11205225+1.44740011e-02j,\n",
       "         0.00175457-3.81002916e-02j, -0.01876417-6.03657688e-02j,\n",
       "         0.02770617-8.53012493e-03j,  0.03836425-2.89269085e-02j,\n",
       "        -0.02309688-7.50195322e-02j,  0.66385378-1.11022302e-15j]])"
      ]
     },
     "execution_count": 6,
     "metadata": {},
     "output_type": "execute_result"
    }
   ],
   "source": [
    "A_dag"
   ]
  },
  {
   "cell_type": "code",
   "execution_count": null,
   "id": "30abf8fd",
   "metadata": {},
   "outputs": [],
   "source": []
  }
 ],
 "metadata": {
  "kernelspec": {
   "display_name": "Python 3 (ipykernel)",
   "language": "python",
   "name": "python3"
  },
  "language_info": {
   "codemirror_mode": {
    "name": "ipython",
    "version": 3
   },
   "file_extension": ".py",
   "mimetype": "text/x-python",
   "name": "python",
   "nbconvert_exporter": "python",
   "pygments_lexer": "ipython3",
   "version": "3.7.11"
  }
 },
 "nbformat": 4,
 "nbformat_minor": 5
}
